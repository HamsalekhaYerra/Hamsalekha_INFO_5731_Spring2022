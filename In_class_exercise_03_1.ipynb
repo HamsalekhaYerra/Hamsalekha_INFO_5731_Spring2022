{
  "cells": [
    {
      "cell_type": "markdown",
      "metadata": {
        "id": "view-in-github",
        "colab_type": "text"
      },
      "source": [
        "<a href=\"https://colab.research.google.com/github/HamsalekhaYerra/Hamsalekha_INFO_5731_Spring2022/blob/main/In_class_exercise_03_1.ipynb\" target=\"_parent\"><img src=\"https://colab.research.google.com/assets/colab-badge.svg\" alt=\"Open In Colab\"/></a>"
      ]
    },
    {
      "cell_type": "markdown",
      "metadata": {
        "id": "j5nsj2ZjpAvP"
      },
      "source": [
        "## The third In-class-exercise (2/22/2022, 40 points in total)"
      ]
    },
    {
      "cell_type": "markdown",
      "metadata": {
        "id": "z3SjH7gEpAvY"
      },
      "source": [
        "The purpose of this exercise is to understand text representation."
      ]
    },
    {
      "cell_type": "markdown",
      "metadata": {
        "id": "rGsknXCFpAvZ"
      },
      "source": [
        "Question 1 (10 points): Describe an interesting text classification or text mining task and explain what kind of features might be useful for you to build the machine learning model. List your features and explain why these features might be helpful. You need to list at least five different types of features."
      ]
    },
    {
      "cell_type": "markdown",
      "source": [
        "Sentiment analysis or opinion mining is a machine learning\n",
        "approach to classify and analyse texts or documents about\n",
        "human’s sentiments, emotions, opinions. It will classify texts\n",
        "into some classes according to the amount of label from data\n",
        "training. With machine learning, reading all of the reviews is\n",
        "rather time consuming where we can summarize the review on\n",
        "particular category. The importance of sentiment analysis\n",
        "is increasing as the amount of opinion data increases. So the\n",
        "machine needs to be more reliable and efficient\n",
        "\n",
        "Features:\n",
        "\n",
        "good- which describes how important something is can be used for instance in product rating. \n",
        "\n",
        "poor - describes the quality of a product\n",
        "\n",
        "bad - also decsribes the quaity of a product or a person\n",
        "\n",
        "excellent - can be used to symbolize how certain product behaves fro instance\n",
        "\n",
        "smart - describes the look on something"
      ],
      "metadata": {
        "id": "cDo6HZyjwzwY"
      }
    },
    {
      "cell_type": "markdown",
      "metadata": {
        "id": "HWU1wvA5pAvd"
      },
      "source": [
        "Question 2 (20 points): Write python code to extract these features you discussed above. You can collect a few sample text data for the feature extraction. "
      ]
    },
    {
      "cell_type": "code",
      "source": [
        "corpus = [ 'This is the good book.',\n",
        "          'This document is the second poor document.',\n",
        "          'this document smells so bad.',\n",
        "          'does this pen work excellently?',\n",
        "          'this cloth looks so smart'\n",
        "          ]"
      ],
      "metadata": {
        "id": "d6GVQn_BORxb"
      },
      "execution_count": null,
      "outputs": []
    },
    {
      "cell_type": "code",
      "source": [
        "vectorizer = TfidfVectorizer()"
      ],
      "metadata": {
        "id": "0mLSbrnRO4hG"
      },
      "execution_count": null,
      "outputs": []
    },
    {
      "cell_type": "code",
      "source": [
        "X = vectorizer.fit_transform(corpus)"
      ],
      "metadata": {
        "id": "snA-6BDeO4jr"
      },
      "execution_count": null,
      "outputs": []
    },
    {
      "cell_type": "code",
      "source": [
        "features = vectorizer.get_feature_names_out()"
      ],
      "metadata": {
        "id": "Zs_NMY5zO9O5"
      },
      "execution_count": null,
      "outputs": []
    },
    {
      "cell_type": "code",
      "source": [
        "features"
      ],
      "metadata": {
        "colab": {
          "base_uri": "https://localhost:8080/"
        },
        "id": "MK9YU8koR94x",
        "outputId": "31008718-dc7c-47c5-de95-1d38a54ef48e"
      },
      "execution_count": null,
      "outputs": [
        {
          "output_type": "execute_result",
          "data": {
            "text/plain": [
              "array(['bad', 'book', 'cloth', 'document', 'does', 'excellently', 'good',\n",
              "       'is', 'looks', 'pen', 'poor', 'second', 'smart', 'smells', 'so',\n",
              "       'the', 'this', 'work'], dtype=object)"
            ]
          },
          "metadata": {},
          "execution_count": 14
        }
      ]
    },
    {
      "cell_type": "code",
      "source": [
        "print(X.shape)"
      ],
      "metadata": {
        "colab": {
          "base_uri": "https://localhost:8080/"
        },
        "id": "Ulh9WGFAO9Rl",
        "outputId": "a4704542-0956-44f7-d462-a3d9488eab3b"
      },
      "execution_count": null,
      "outputs": [
        {
          "output_type": "stream",
          "name": "stdout",
          "text": [
            "(5, 18)\n"
          ]
        }
      ]
    },
    {
      "cell_type": "markdown",
      "metadata": {
        "id": "u1pYefUspAvf"
      },
      "source": [
        "Question 3 (10 points): Use any of the feature selection methods mentioned in this paper \"Deng, X., Li, Y., Weng, J., & Zhang, J. (2019). Feature selection for text classification: A review. Multimedia Tools & Applications, 78(3).\" Select the most important features you extracted above, rank the features based on their importance in the descending order. "
      ]
    },
    {
      "cell_type": "code",
      "execution_count": null,
      "metadata": {
        "id": "ptCqYBi5pAvh"
      },
      "outputs": [],
      "source": [
        "# You code here (Please add comments in the code):\n",
        "\n",
        "\n",
        "from sklearn.feature_selection import SelectKBest, chi2, mutual_info_classif\n"
      ]
    },
    {
      "cell_type": "code",
      "source": [
        "import nltk\n",
        "from nltk.tokenize import RegexpTokenizer\n",
        "from nltk.corpus import wordnet\n",
        "from nltk.stem.wordnet import WordNetLemmatizer\n",
        "tokenizer = RegexpTokenizer(r'\\w+')"
      ],
      "metadata": {
        "id": "bBdtv2gMSRsn"
      },
      "execution_count": null,
      "outputs": []
    },
    {
      "cell_type": "code",
      "source": [
        "class UniqueTokenFrequencyFeatureSelector:\n",
        "    def __init__(self, features):\n",
        "        tokenized = [tokenizer.tokenize(r) for r in features]\n",
        "        tokens = set(self._flatten(tokenized))\n",
        "        print ('UniqueTokenFrequencyFeatureSelector:TotalTokens:', len(tokens))\n",
        "        self.tokens = tokens\n",
        "       \n",
        "    def _flatten(self,l):\n",
        "        '''Converts [ [a,b], [c,d], [e,f,g] ] to [a,b,c,d,e,f,g]'''\n",
        "        return [ s for sublist in l for s in sublist]\n",
        "\n",
        "    def selector(self, features):\n",
        "        tokens = self.tokens\n",
        "        review_tokens = tokenizer.tokenize(features)\n",
        "        features = dict(zip(tokens, [0]*len(tokens)))\n",
        "        for tok in review_tokens:\n",
        "            if tok in tokens:\n",
        "                features[tok] = 1\n",
        "        return features\n",
        "v = UniqueTokenFrequencyFeatureSelector(features)"
      ],
      "metadata": {
        "colab": {
          "base_uri": "https://localhost:8080/"
        },
        "id": "If6SufIlRL2K",
        "outputId": "f62477c7-a980-4346-924a-5806d79b2a29"
      },
      "execution_count": null,
      "outputs": [
        {
          "output_type": "stream",
          "name": "stdout",
          "text": [
            "UniqueTokenFrequencyFeatureSelector:TotalTokens: 18\n"
          ]
        }
      ]
    }
  ],
  "metadata": {
    "kernelspec": {
      "display_name": "Python 3",
      "language": "python",
      "name": "python3"
    },
    "language_info": {
      "codemirror_mode": {
        "name": "ipython",
        "version": 3
      },
      "file_extension": ".py",
      "mimetype": "text/x-python",
      "name": "python",
      "nbconvert_exporter": "python",
      "pygments_lexer": "ipython3",
      "version": "3.8.5"
    },
    "colab": {
      "name": "In_class_exercise_03_1.ipynb",
      "provenance": [],
      "include_colab_link": true
    }
  },
  "nbformat": 4,
  "nbformat_minor": 0
}