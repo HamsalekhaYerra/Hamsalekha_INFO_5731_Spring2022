{
  "nbformat": 4,
  "nbformat_minor": 0,
  "metadata": {
    "colab": {
      "name": "In_class_exercise_01.ipynb",
      "provenance": [],
      "authorship_tag": "ABX9TyOZyiq+n4BoBUIBj8ZxyH9+",
      "include_colab_link": true
    },
    "kernelspec": {
      "name": "python3",
      "display_name": "Python 3"
    },
    "language_info": {
      "name": "python"
    }
  },
  "cells": [
    {
      "cell_type": "markdown",
      "metadata": {
        "id": "view-in-github",
        "colab_type": "text"
      },
      "source": [
        "<a href=\"https://colab.research.google.com/github/HamsalekhaYerra/Hamsalekha_INFO_5731_Spring2022/blob/main/In_class_exercise_01.ipynb\" target=\"_parent\"><img src=\"https://colab.research.google.com/assets/colab-badge.svg\" alt=\"Open In Colab\"/></a>"
      ]
    },
    {
      "cell_type": "code",
      "execution_count": null,
      "metadata": {
        "colab": {
          "base_uri": "https://localhost:8080/"
        },
        "id": "hLIikY4kq32p",
        "outputId": "7f4e20d5-c59c-47e7-9470-1521faa5cc22"
      },
      "outputs": [
        {
          "output_type": "stream",
          "name": "stdout",
          "text": [
            "21\n"
          ]
        }
      ],
      "source": [
        "str=\"Computational Methods\"\n",
        "print(len(str))"
      ]
    },
    {
      "cell_type": "code",
      "source": [
        "from collections import Counter\n",
        "string='google.com'\n",
        "res=Counter(string)\n",
        "print(res)"
      ],
      "metadata": {
        "colab": {
          "base_uri": "https://localhost:8080/"
        },
        "id": "Bt6F1W4usTBV",
        "outputId": "0d5b796d-f123-4f24-98cb-62e826041999"
      },
      "execution_count": null,
      "outputs": [
        {
          "output_type": "stream",
          "name": "stdout",
          "text": [
            "Counter({'o': 3, 'g': 2, 'l': 1, 'e': 1, '.': 1, 'c': 1, 'm': 1})\n"
          ]
        }
      ]
    },
    {
      "cell_type": "code",
      "source": [
        "a=[1,2,3,4,5,6,7,8,9]\n",
        "print(sum(a))"
      ],
      "metadata": {
        "colab": {
          "base_uri": "https://localhost:8080/"
        },
        "id": "s7-5RY2ot3fJ",
        "outputId": "03eb8864-be67-4b2c-e05b-e8674a16af35"
      },
      "execution_count": null,
      "outputs": [
        {
          "output_type": "stream",
          "name": "stdout",
          "text": [
            "45\n"
          ]
        }
      ]
    },
    {
      "cell_type": "code",
      "source": [
        "string = 'restart'\n",
        "print(string)\n",
        "r = '$'\n",
        "new_string = string.replace(string[0], r).replace(r, string[0], 1)\n",
        "print(new_string)"
      ],
      "metadata": {
        "colab": {
          "base_uri": "https://localhost:8080/"
        },
        "id": "w3PP9420yl-X",
        "outputId": "bbeb6e89-cc9d-4007-fcc8-a09448e618c5"
      },
      "execution_count": null,
      "outputs": [
        {
          "output_type": "stream",
          "name": "stdout",
          "text": [
            "restart\n",
            "resta$t\n"
          ]
        }
      ]
    },
    {
      "cell_type": "code",
      "source": [
        "a = int(input('a='))\n",
        "b = int(input('b='))\n",
        "S = 3.14*pow((1+a/b),3)\n",
        "print(S)"
      ],
      "metadata": {
        "colab": {
          "base_uri": "https://localhost:8080/"
        },
        "id": "QOIgIlHeyx-M",
        "outputId": "157442b7-8908-499e-c7f4-cd23aeda5efb"
      },
      "execution_count": null,
      "outputs": [
        {
          "output_type": "stream",
          "name": "stdout",
          "text": [
            "a=2\n",
            "b=3\n",
            "14.537037037037033\n"
          ]
        }
      ]
    },
    {
      "cell_type": "code",
      "source": [
        "dic1={1:10, 2:20}\n",
        "dic2={3:30, 4:40}\n",
        "dic3={5:50, 6:60}\n",
        "dic4={}\n",
        "for d in (dic1, dic2, dic3): dic4.update(d)\n",
        "print(dic4)"
      ],
      "metadata": {
        "colab": {
          "base_uri": "https://localhost:8080/"
        },
        "id": "Dc5Geoo_uzuj",
        "outputId": "7343d732-b415-4fd5-f7f9-cce04c2e26c8"
      },
      "execution_count": null,
      "outputs": [
        {
          "output_type": "stream",
          "name": "stdout",
          "text": [
            "{1: 10, 2: 20, 3: 30, 4: 40, 5: 50, 6: 60}\n"
          ]
        }
      ]
    },
    {
      "cell_type": "code",
      "source": [
        "a=(\"p\", \"y\", \"t\", \"h\", \"o\", \"n\")\n",
        "print(\"t\" in a)\n",
        "print(\"q\" in a)"
      ],
      "metadata": {
        "colab": {
          "base_uri": "https://localhost:8080/"
        },
        "id": "RF3fMK4Xv4AG",
        "outputId": "d7811d8b-ebeb-4dfb-d32e-7ac0fa1cac10"
      },
      "execution_count": null,
      "outputs": [
        {
          "output_type": "stream",
          "name": "stdout",
          "text": [
            "True\n",
            "False\n"
          ]
        }
      ]
    },
    {
      "cell_type": "code",
      "source": [
        "set={1, 5, 10, 15, 20, 25, 30, 35, 40}\n",
        "print(max(set))\n",
        "print(min(set))"
      ],
      "metadata": {
        "colab": {
          "base_uri": "https://localhost:8080/"
        },
        "id": "VXw3cOjRwuf6",
        "outputId": "1807c8a6-e81d-47ac-9f0b-1171b1a5f34b"
      },
      "execution_count": null,
      "outputs": [
        {
          "output_type": "stream",
          "name": "stdout",
          "text": [
            "40\n",
            "1\n"
          ]
        }
      ]
    },
    {
      "cell_type": "code",
      "source": [
        "def duplicate(nums):\n",
        "    num_set = set()\n",
        "    no_duplicate = -1\n",
        "    for i in range(len(nums)):\n",
        "\n",
        "        if nums[i] in num_set:\n",
        "            return nums[i]\n",
        "        else:\n",
        "            num_set.add(nums[i])\n",
        "\n",
        "    return no_duplicate\n",
        "\n",
        "print(duplicate([1, 2, 3, 4, 3, 5]))\n",
        "print(duplicate([1, 1, 2, 3, 3, 2, 2]))\n",
        "print(duplicate([1, 2, 3, 4]))"
      ],
      "metadata": {
        "id": "zdhzZKBjxcaV",
        "colab": {
          "base_uri": "https://localhost:8080/"
        },
        "outputId": "1bdef94b-2aa9-48b6-c6b6-45900eb4e962"
      },
      "execution_count": 1,
      "outputs": [
        {
          "output_type": "stream",
          "name": "stdout",
          "text": [
            "3\n",
            "1\n",
            "-1\n"
          ]
        }
      ]
    },
    {
      "cell_type": "code",
      "source": [
        "from datetime import date, timedelta\n",
        "def sundays(year):\n",
        "\n",
        "       dt = date(year, 1, 1)\n",
        "\n",
        "       dt += timedelta(days = 6 - dt.weekday())  \n",
        "       while dt.year == year:\n",
        "          yield dt\n",
        "          dt += timedelta(days = 7)\n",
        "\n",
        "for s in sundays(2030):\n",
        "   print(s)"
      ],
      "metadata": {
        "colab": {
          "base_uri": "https://localhost:8080/"
        },
        "id": "Hs6v2cZJz4AK",
        "outputId": "979ea6c0-d640-4157-a3d6-dfd9e8815936"
      },
      "execution_count": null,
      "outputs": [
        {
          "output_type": "stream",
          "name": "stdout",
          "text": [
            "2030-01-06\n",
            "2030-01-13\n",
            "2030-01-20\n",
            "2030-01-27\n",
            "2030-02-03\n",
            "2030-02-10\n",
            "2030-02-17\n",
            "2030-02-24\n",
            "2030-03-03\n",
            "2030-03-10\n",
            "2030-03-17\n",
            "2030-03-24\n",
            "2030-03-31\n",
            "2030-04-07\n",
            "2030-04-14\n",
            "2030-04-21\n",
            "2030-04-28\n",
            "2030-05-05\n",
            "2030-05-12\n",
            "2030-05-19\n",
            "2030-05-26\n",
            "2030-06-02\n",
            "2030-06-09\n",
            "2030-06-16\n",
            "2030-06-23\n",
            "2030-06-30\n",
            "2030-07-07\n",
            "2030-07-14\n",
            "2030-07-21\n",
            "2030-07-28\n",
            "2030-08-04\n",
            "2030-08-11\n",
            "2030-08-18\n",
            "2030-08-25\n",
            "2030-09-01\n",
            "2030-09-08\n",
            "2030-09-15\n",
            "2030-09-22\n",
            "2030-09-29\n",
            "2030-10-06\n",
            "2030-10-13\n",
            "2030-10-20\n",
            "2030-10-27\n",
            "2030-11-03\n",
            "2030-11-10\n",
            "2030-11-17\n",
            "2030-11-24\n",
            "2030-12-01\n",
            "2030-12-08\n",
            "2030-12-15\n",
            "2030-12-22\n",
            "2030-12-29\n"
          ]
        }
      ]
    }
  ]
}