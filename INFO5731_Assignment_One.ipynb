{
  "cells": [
    {
      "cell_type": "markdown",
      "metadata": {
        "id": "view-in-github",
        "colab_type": "text"
      },
      "source": [
        "<a href=\"https://colab.research.google.com/github/HamsalekhaYerra/Hamsalekha_INFO_5731_Spring2022/blob/main/INFO5731_Assignment_One.ipynb\" target=\"_parent\"><img src=\"https://colab.research.google.com/assets/colab-badge.svg\" alt=\"Open In Colab\"/></a>"
      ]
    },
    {
      "cell_type": "markdown",
      "metadata": {
        "id": "Ryk8D1Q4Wsrp"
      },
      "source": [
        "# **INFO5731 Assignment One**"
      ]
    },
    {
      "cell_type": "markdown",
      "metadata": {
        "id": "90_NR8c5XGWc"
      },
      "source": [
        "# Question 1\n",
        "\n",
        "(20 points). Write a Python program to generate 12 random numbers between 1 and 100. Sort the list of numbers in ascending order and print it out. Sort the list of numbers in descending order and print it out. Calculate the average for the group and print it out."
      ]
    },
    {
      "cell_type": "code",
      "execution_count": null,
      "metadata": {
        "colab": {
          "base_uri": "https://localhost:8080/"
        },
        "id": "5QX6bJjGWXY9",
        "outputId": "f2bf5a07-2a18-48a3-f951-da287fd0cae6"
      },
      "outputs": [
        {
          "output_type": "stream",
          "name": "stdout",
          "text": [
            "[97, 81, 88, 67, 78, 54, 11, 62, 4, 2, 36, 45]\n",
            "[2, 4, 11, 36, 45, 54, 62, 67, 78, 81, 88, 97]\n",
            "[97, 88, 81, 78, 67, 62, 54, 45, 36, 11, 4, 2]\n",
            "52.083333333333336\n"
          ]
        }
      ],
      "source": [
        "# Your code here\n",
        "import random\n",
        "import numpy\n",
        "from statistics import mean \n",
        "rlist = []\n",
        "for i in range(0,12):\n",
        "    x = random.randint(1,100)\n",
        "    rlist.append(x)\n",
        "print(rlist)\n",
        "\n",
        "rlist.sort()\n",
        "print(rlist)\n",
        "\n",
        "rlist.sort(reverse=True)\n",
        "print(rlist)\n",
        "\n",
        "print(mean(rlist))\n",
        "\n"
      ]
    },
    {
      "cell_type": "markdown",
      "metadata": {
        "id": "1F_PZdH9Sh49"
      },
      "source": [
        "# Question 2\n",
        "(25 points). Write a program that will do the following string formatting tasks:\n",
        "\n",
        "(1) Ask the user to enter two sentences.\n",
        "\n",
        "(2) Make each sentence into a list. Each element in the list should correspond to a word in the sentence. For example, if the sentence is \"Alas! Am I alive? This is my first python program\", the program should print out ['Alas, '!', 'Am', 'I', 'alive, '?', 'This', 'is', 'my', 'first', 'python', 'program'].\n",
        "\n",
        "(3) Compare the two sentences. Print out a list of words that occur in both sentences.\n",
        "\n",
        "(4) Remove any punctuation from the sentence and print it back out. It should remove at least the following characters, but it can remove more: period(“.”), comma (“,”), semicolon (“;”), and colon (“:”)\n",
        "\n",
        "(5) Count the number of vowels in the sentences. Print out each vowel and the number of times it appears in the sentences, such as: a:2, e:1, i:0, etc"
      ]
    },
    {
      "cell_type": "code",
      "execution_count": 1,
      "metadata": {
        "colab": {
          "base_uri": "https://localhost:8080/"
        },
        "id": "Y0oOSlsOS0cq",
        "outputId": "4ef8f3fe-db08-48fb-f78d-46e2264080f2"
      },
      "outputs": [
        {
          "output_type": "stream",
          "name": "stdout",
          "text": [
            "Enter two sentences:this is computational methods: assignment one!\n",
            "python, programming for beginners.\n",
            "['this', 'is', 'computational', 'methods', ': ', 'assignment', 'one', '!'] ['python', ', ', 'programming', 'for', 'beginners', '.']\n",
            "[]\n",
            "this is computational methods assignment one\n",
            "python programming for beginners\n",
            "{'a': 3, 'e': 3, 'i': 4, 'o': 4, 'u': 1}\n",
            "{'a': 1, 'e': 1, 'i': 1, 'o': 1, 'u': 1}\n"
          ]
        }
      ],
      "source": [
        "# Your code here\n",
        "import re\n",
        "a,b=input(\"Enter two sentences:\"),input()\n",
        "\n",
        "l1,l2=[],[]\n",
        "\n",
        "l1=re.split(r\"(\\W+)\",a)\n",
        "l2=re.split(r'(\\W+)',b)\n",
        "\n",
        "l1 = [s for s in l1 if s.strip()]\n",
        "l2 = [s for s in l2 if s.strip()]\n",
        "\n",
        "print(l1,l2)\n",
        "\n",
        "\n",
        "l=[]\n",
        "for i in range(0,len(l1)):\n",
        "    for j in range(0,len(l2)):\n",
        "        if l1[i]!=\" \":\n",
        "            if(l1[i]==l2[j]):\n",
        "                l.append(l1[i]) \n",
        "punc = '''!()-[]{};:'\"\\,<>./?@#$%^&*_~'''\n",
        "\n",
        "for i in l:\n",
        "    if i in punc:\n",
        "        l.remove(i)\n",
        "\n",
        "print(l)\n",
        "\n",
        "\n",
        "for i in a:\n",
        "    if i in punc:\n",
        "        a=a.replace(i, \"\")\n",
        "print(a) \n",
        "for i in b:\n",
        "    if i in punc:\n",
        "        b=b.replace(i, \"\")\n",
        "print(b)  \n",
        "\n",
        "\n",
        "v,v1={},{}\n",
        "for vowel in \"aeiou\":\n",
        "    i=(a.lower()).count(vowel)\n",
        "    v[vowel]=i\n",
        "print(v)   \n",
        "\n",
        "for vowel in \"aeiou\":\n",
        "    i=(b.lower()).count(vowel)\n",
        "    v1[vowel]=1\n",
        "print(v1)\n"
      ]
    },
    {
      "cell_type": "markdown",
      "metadata": {
        "id": "CmFoI4jDS9nx"
      },
      "source": [
        "# Question 3 \n",
        "\n",
        "(15 points). The formula that describes the volume V of a sphere with radius r is the following:\n",
        "\n",
        "$ V=\\frac{4}{3}\\ast\\ \\pi\\ast\\ r^3 $\n",
        "\n",
        "Write a program to calculate the value of V when r is in the range of 1–10. Output the result in the following format:\n",
        "\n",
        "\tr\tV\n",
        "\t1\t…\n",
        "\t2\t…\n",
        "\t3\t…\n"
      ]
    },
    {
      "cell_type": "code",
      "execution_count": null,
      "metadata": {
        "colab": {
          "base_uri": "https://localhost:8080/"
        },
        "id": "pEyqeioAT95b",
        "outputId": "00576499-f0d2-4f6c-89d8-6638a004e629"
      },
      "outputs": [
        {
          "output_type": "stream",
          "name": "stdout",
          "text": [
            "r  V\n",
            "1  4.1887902047863905\n",
            "2  33.510321638291124\n",
            "3  113.09733552923254\n",
            "4  268.082573106329\n",
            "5  523.5987755982989\n",
            "6  904.7786842338603\n",
            "7  1436.7550402417319\n",
            "8  2144.660584850632\n",
            "9  3053.6280592892786\n",
            "10  4188.790204786391\n"
          ]
        }
      ],
      "source": [
        "# Your code here\n",
        "\n",
        "import math\n",
        "print(\"r  V\")\n",
        "for i in range(1,11):\n",
        "    V=4/3*math.pi*i**3\n",
        "    print(\"{0}  {1}\".format(i,V))\n",
        "    "
      ]
    },
    {
      "cell_type": "code",
      "execution_count": null,
      "metadata": {
        "id": "pMCr3l8tnu0j"
      },
      "outputs": [],
      "source": [
        ""
      ]
    },
    {
      "cell_type": "markdown",
      "metadata": {
        "id": "z3tBE7E-Xn5X"
      },
      "source": [
        "# Question 4\n",
        "\n",
        "(40 points). In the field of Data Science, data is often formatted as a comma-delimited (CSV) file, where each line in a file corresponds to a field's value. Refer to Chapter 9 (p. 106) for more information on comma-delimited files. To answer this question, you will need to download the file [Assignment1_denton_housing.csv](https://raw.githubusercontent.com/unt-iialab/info5731-spring2022/main/assignments/Assignment1_denton_housing.csv) included with this assignment. The file [Assignment1_denton_housing.csv](https://raw.githubusercontent.com/unt-iialab/info5731-spring2022/main/assignments/Assignment1_denton_housing.csv) contains statistics about housing in the city of Denton from 2008 to 2014. Write a program to implement the following questions.\n",
        "\n",
        "(1) (10 pts) Calculate the difference in the number of Occupied Housing Units from year to year and print it. The difference must be calculated for the consecutive years such as 2008-2009, 2009-2010 etc. Finally, print the values in the ascending order.\n",
        "\n",
        "(2) (10 pts) For all the years, calculate the percentage of housing units which are vacant an occupied. Print the results in the following format:\n",
        "\n",
        "Year Vacant Housing Units Occupied Housing Units\n",
        "\n",
        "    2008  30%   70%                          \n",
        "\t2009 ----- -----\n",
        "\t2010 ----- -----\n",
        "    2011 ----- -----\n",
        "\t2012 ----- -----\n",
        "    2013 ----- -----\n",
        "\t2014 ----- -----\n",
        "  \n",
        "  \n",
        "\n",
        "(3) (10 pts) Calculate and print the valued and years in which the highest number of housing units were vacant and occupied. Print the results in the following format:  \n",
        "\n",
        "                              Year\tValue\n",
        "\tVacant Housing Units\t  -----   -----\n",
        "\tOccupied Housing Units\t-----   -----\n",
        "\n",
        "(4) (10 pts) Calculate the harmonic mean of the total housing units and print it out. You can find the information about harmonic mean here: https://ncalculators.com/statistics/harmonic-mean-calculator.htm"
      ]
    },
    {
      "cell_type": "code",
      "execution_count": null,
      "metadata": {
        "colab": {
          "base_uri": "https://localhost:8080/"
        },
        "id": "lqGYuHBhcsRH",
        "outputId": "1e7b775d-c963-4e8d-d9f9-8eb9c09e67ec"
      },
      "outputs": [
        {
          "output_type": "stream",
          "name": "stdout",
          "text": [
            "2009-2010  -5091.0\n",
            "2013-2014  -2622.0\n",
            "2012-2013  -1565.0\n",
            "2011-2012  -1404.0\n",
            "2010-2011  303.0\n",
            "2008-2009  795.0\n",
            "\n",
            "\n",
            "Year Occupied Vacant\n",
            "2008 89.12% 10.88%\n",
            "2009 90.93% 9.07%\n",
            "2010 91.86% 8.14%\n",
            "2011 90.62% 9.38%\n",
            "2012 93.32% 6.68%\n",
            "2013 91.2% 8.8%\n",
            "2014 94.27% 5.73%\n",
            "\n",
            "\n",
            "                     Year Value\n",
            "Vacant Housing Units  2008  4483\n",
            "Occupied Housing Units  2014  46295\n",
            "\n",
            "\n",
            "Harmonic Mean is 44398.28543969185 \n"
          ]
        }
      ],
      "source": [
        "# Your code here\n",
        "import pandas as pd\n",
        "import operator\n",
        "import warnings\n",
        "import statistics\n",
        "warnings.filterwarnings('ignore')\n",
        "\n",
        "df = pd.read_csv ('https://raw.githubusercontent.com/unt-iialab/info5731-spring2022/main/assignments/Assignment1_denton_housing.csv')\n",
        "\n",
        "\n",
        "och=df.loc[df['title_field'] == \"Occupied Housing Units\"]\n",
        "och['diff']=och['value'].diff()\n",
        "l=och['diff'][1:]\n",
        "d={'2008-2009':och['diff'].values[-1],'2009-2010':och['diff'].values[-2],'2010-2011':och['diff'].values[-3],'2011-2012':och['diff'].values[-4],\n",
        "   '2012-2013':och['diff'].values[-5],'2013-2014':och['diff'].values[-6]}\n",
        "d = sorted(d.items(), key=operator.itemgetter(1))\n",
        "for k,v in d:\n",
        "    print(k+\"  \"+str(v))\n",
        "\n",
        "print('\\n')\n",
        "vac=df.loc[df['title_field'] == \"Vacant Housing Units\"]   \n",
        "total=df.loc[df['title_field'] == \"Total Housing Units\"] \n",
        "occ=df.loc[df['title_field'] == \"Occupied Housing Units\"] \n",
        "\n",
        "d1,d2={},{}\n",
        "for i in range(len(vac)):\n",
        "    d1[vac['year'].values[i]]=round(vac['value'].values[i]/total['value'].values[i]*100,2)\n",
        "    d2[occ['year'].values[i]]=round(occ['value'].values[i]/total['value'].values[i]*100,2)\n",
        "\n",
        "l=[2008,2009,2010,2011,2012,2013,2014]\n",
        "print('Year','Occupied','Vacant')\n",
        "for i in l:\n",
        "    print(str(i)+\" \"+str(d2[i])+'% '+str(d1[i])+'%')\n",
        "\n",
        "print('\\n')    \n",
        "df_max_vac=vac.loc[vac['value']==max(vac['value'].values)]   \n",
        "\n",
        "print(\"                    \",'Year','Value')\n",
        "print('Vacant Housing Units  '+str(df_max_vac['year'].values[0])+'  '+str(df_max_vac['value'].values[0]))\n",
        "\n",
        "df_max_occ=occ.loc[occ['value']==max(occ['value'].values)]   \n",
        "print('Occupied Housing Units  '+str(df_max_occ['year'].values[0])+'  '+str(df_max_occ['value'].values[0]))\n",
        "\n",
        "print('\\n')\n",
        "print(\"Harmonic Mean is % s \" % (statistics.harmonic_mean(total['value'].values)))\n",
        "\n",
        "\n",
        "\n"
      ]
    }
  ],
  "metadata": {
    "colab": {
      "collapsed_sections": [],
      "name": "INFO5731_Assignment_One.ipynb",
      "provenance": [],
      "include_colab_link": true
    },
    "kernelspec": {
      "display_name": "Python 3 (ipykernel)",
      "language": "python",
      "name": "python3"
    },
    "language_info": {
      "codemirror_mode": {
        "name": "ipython",
        "version": 3
      },
      "file_extension": ".py",
      "mimetype": "text/x-python",
      "name": "python",
      "nbconvert_exporter": "python",
      "pygments_lexer": "ipython3",
      "version": "3.9.7"
    }
  },
  "nbformat": 4,
  "nbformat_minor": 0
}